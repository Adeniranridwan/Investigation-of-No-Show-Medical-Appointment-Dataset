{
 "cells": [
  {
   "cell_type": "markdown",
   "id": "3307b25f",
   "metadata": {},
   "source": [
    "# Project: Investigate Medical Appointment No-Show Dataset"
   ]
  },
  {
   "cell_type": "markdown",
   "id": "a99a05a7",
   "metadata": {},
   "source": [
    "### Table of Contents"
   ]
  },
  {
   "cell_type": "markdown",
   "id": "be867d0f",
   "metadata": {},
   "source": [
    "\n",
    "\n",
    "* Introduction\n",
    "* Data Wrangling\n",
    "* Exploratory Analysis\n",
    "* Conclusion"
   ]
  },
  {
   "cell_type": "markdown",
   "id": "800534f1",
   "metadata": {},
   "source": [
    "### Introduction"
   ]
  },
  {
   "cell_type": "markdown",
   "id": "43b752b2",
   "metadata": {},
   "source": [
    "This project is an analyis performed on a dataset gathered from a medical appointments history. \n",
    "It's a data from different patients that scheduled an appoinment with the doctor, receives all the instructions, but does not show up on the appointment day.\n",
    "\n",
    "The dataset consist of about 14 variables (characteristics). These are: </br>\n",
    "\n",
    "1. PatientId - Identification of a patient \n",
    "2. AppointmentID  -Identification of each appointment \n",
    "3. Gender - Male or Female \n",
    "4. ScheduledDay - The day of the actuall appointment, when they have to visit the doctor.\n",
    "5. AppointmentDay - The day someone called or registered the appointment, this is before appointment of course.\n",
    "6. Age - How old is the patient.\n",
    "7. Neighbourhood - Where the appointment takes place.\n",
    "8. Scholarship - True of False .\n",
    "9. Hipertension - True or False\n",
    "10. Diabetes - True or False\n",
    "11. Alcoholism -True or False\n",
    "12. Handcap -True or False\n",
    "13. SMS_received - 1 or more messages sent to the patient.\n",
    "14 No-show - True or False.\n"
   ]
  },
  {
   "cell_type": "markdown",
   "id": "4d041eee",
   "metadata": {},
   "source": [
    "### Questions: This analysis will answer the following questions:"
   ]
  },
  {
   "cell_type": "markdown",
   "id": "db7a37eb",
   "metadata": {},
   "source": [
    "\n",
    "    \n",
    "A. What factors are important for us to know in order to predict if a patient will show up for their scheduled appointment?\n",
    "</br>\n",
    "B. Which day of the week do patients scheduled their appoint? </br>\n",
    "C. What Age group have most Appontments Scheduled? </br>"
   ]
  },
  {
   "cell_type": "markdown",
   "id": "bd020550",
   "metadata": {},
   "source": [
    "Importing required Libraries"
   ]
  },
  {
   "cell_type": "code",
   "execution_count": 1,
   "id": "420e9190",
   "metadata": {},
   "outputs": [],
   "source": [
    "import numpy as np \n",
    "import pandas as pd\n",
    "import seaborn as sns\n",
    "import matplotlib.pyplot as plt\n",
    "%matplotlib inline\n",
    "\n",
    "import warnings\n",
    "warnings.simplefilter(\"ignore\")"
   ]
  },
  {
   "cell_type": "code",
   "execution_count": 2,
   "id": "3aa08cc4",
   "metadata": {},
   "outputs": [],
   "source": [
    "#importing the Medical_appointment dataset\n",
    "data = pd.read_csv(r'C:\\\\Users\\\\Master Ridwan\\\\Desktop\\\\Medical_appointment.csv', header = 0)"
   ]
  },
  {
   "cell_type": "code",
   "execution_count": 3,
   "id": "f399109a",
   "metadata": {},
   "outputs": [
    {
     "data": {
      "text/html": [
       "<div>\n",
       "<style scoped>\n",
       "    .dataframe tbody tr th:only-of-type {\n",
       "        vertical-align: middle;\n",
       "    }\n",
       "\n",
       "    .dataframe tbody tr th {\n",
       "        vertical-align: top;\n",
       "    }\n",
       "\n",
       "    .dataframe thead th {\n",
       "        text-align: right;\n",
       "    }\n",
       "</style>\n",
       "<table border=\"1\" class=\"dataframe\">\n",
       "  <thead>\n",
       "    <tr style=\"text-align: right;\">\n",
       "      <th></th>\n",
       "      <th>PatientId</th>\n",
       "      <th>AppointmentID</th>\n",
       "      <th>Gender</th>\n",
       "      <th>ScheduledDay</th>\n",
       "      <th>AppointmentDay</th>\n",
       "      <th>Age</th>\n",
       "      <th>Neighbourhood</th>\n",
       "      <th>Scholarship</th>\n",
       "      <th>Hipertension</th>\n",
       "      <th>Diabetes</th>\n",
       "      <th>Alcoholism</th>\n",
       "      <th>Handcap</th>\n",
       "      <th>SMS_received</th>\n",
       "      <th>No-show</th>\n",
       "    </tr>\n",
       "  </thead>\n",
       "  <tbody>\n",
       "    <tr>\n",
       "      <th>0</th>\n",
       "      <td>2.987250e+13</td>\n",
       "      <td>5642903</td>\n",
       "      <td>F</td>\n",
       "      <td>2016-04-29T18:38:08Z</td>\n",
       "      <td>2016-04-29T00:00:00Z</td>\n",
       "      <td>62</td>\n",
       "      <td>JARDIM DA PENHA</td>\n",
       "      <td>0</td>\n",
       "      <td>1</td>\n",
       "      <td>0</td>\n",
       "      <td>0</td>\n",
       "      <td>0</td>\n",
       "      <td>0</td>\n",
       "      <td>No</td>\n",
       "    </tr>\n",
       "    <tr>\n",
       "      <th>1</th>\n",
       "      <td>5.589978e+14</td>\n",
       "      <td>5642503</td>\n",
       "      <td>M</td>\n",
       "      <td>2016-04-29T16:08:27Z</td>\n",
       "      <td>2016-04-29T00:00:00Z</td>\n",
       "      <td>56</td>\n",
       "      <td>JARDIM DA PENHA</td>\n",
       "      <td>0</td>\n",
       "      <td>0</td>\n",
       "      <td>0</td>\n",
       "      <td>0</td>\n",
       "      <td>0</td>\n",
       "      <td>0</td>\n",
       "      <td>No</td>\n",
       "    </tr>\n",
       "    <tr>\n",
       "      <th>2</th>\n",
       "      <td>4.262962e+12</td>\n",
       "      <td>5642549</td>\n",
       "      <td>F</td>\n",
       "      <td>2016-04-29T16:19:04Z</td>\n",
       "      <td>2016-04-29T00:00:00Z</td>\n",
       "      <td>62</td>\n",
       "      <td>MATA DA PRAIA</td>\n",
       "      <td>0</td>\n",
       "      <td>0</td>\n",
       "      <td>0</td>\n",
       "      <td>0</td>\n",
       "      <td>0</td>\n",
       "      <td>0</td>\n",
       "      <td>No</td>\n",
       "    </tr>\n",
       "    <tr>\n",
       "      <th>3</th>\n",
       "      <td>8.679512e+11</td>\n",
       "      <td>5642828</td>\n",
       "      <td>F</td>\n",
       "      <td>2016-04-29T17:29:31Z</td>\n",
       "      <td>2016-04-29T00:00:00Z</td>\n",
       "      <td>8</td>\n",
       "      <td>PONTAL DE CAMBURI</td>\n",
       "      <td>0</td>\n",
       "      <td>0</td>\n",
       "      <td>0</td>\n",
       "      <td>0</td>\n",
       "      <td>0</td>\n",
       "      <td>0</td>\n",
       "      <td>No</td>\n",
       "    </tr>\n",
       "    <tr>\n",
       "      <th>4</th>\n",
       "      <td>8.841186e+12</td>\n",
       "      <td>5642494</td>\n",
       "      <td>F</td>\n",
       "      <td>2016-04-29T16:07:23Z</td>\n",
       "      <td>2016-04-29T00:00:00Z</td>\n",
       "      <td>56</td>\n",
       "      <td>JARDIM DA PENHA</td>\n",
       "      <td>0</td>\n",
       "      <td>1</td>\n",
       "      <td>1</td>\n",
       "      <td>0</td>\n",
       "      <td>0</td>\n",
       "      <td>0</td>\n",
       "      <td>No</td>\n",
       "    </tr>\n",
       "  </tbody>\n",
       "</table>\n",
       "</div>"
      ],
      "text/plain": [
       "      PatientId  AppointmentID Gender          ScheduledDay  \\\n",
       "0  2.987250e+13        5642903      F  2016-04-29T18:38:08Z   \n",
       "1  5.589978e+14        5642503      M  2016-04-29T16:08:27Z   \n",
       "2  4.262962e+12        5642549      F  2016-04-29T16:19:04Z   \n",
       "3  8.679512e+11        5642828      F  2016-04-29T17:29:31Z   \n",
       "4  8.841186e+12        5642494      F  2016-04-29T16:07:23Z   \n",
       "\n",
       "         AppointmentDay  Age      Neighbourhood  Scholarship  Hipertension  \\\n",
       "0  2016-04-29T00:00:00Z   62    JARDIM DA PENHA            0             1   \n",
       "1  2016-04-29T00:00:00Z   56    JARDIM DA PENHA            0             0   \n",
       "2  2016-04-29T00:00:00Z   62      MATA DA PRAIA            0             0   \n",
       "3  2016-04-29T00:00:00Z    8  PONTAL DE CAMBURI            0             0   \n",
       "4  2016-04-29T00:00:00Z   56    JARDIM DA PENHA            0             1   \n",
       "\n",
       "   Diabetes  Alcoholism  Handcap  SMS_received No-show  \n",
       "0         0           0        0             0      No  \n",
       "1         0           0        0             0      No  \n",
       "2         0           0        0             0      No  \n",
       "3         0           0        0             0      No  \n",
       "4         1           0        0             0      No  "
      ]
     },
     "execution_count": 3,
     "metadata": {},
     "output_type": "execute_result"
    }
   ],
   "source": [
    "#loading the Medical_appointment \n",
    "data.head(5)"
   ]
  },
  {
   "cell_type": "code",
   "execution_count": 4,
   "id": "336a4ce2",
   "metadata": {},
   "outputs": [
    {
     "data": {
      "text/plain": [
       "(110527, 14)"
      ]
     },
     "execution_count": 4,
     "metadata": {},
     "output_type": "execute_result"
    }
   ],
   "source": [
    "#checking for the number of columns and rows respectively in the dataset\n",
    "data.shape"
   ]
  },
  {
   "cell_type": "markdown",
   "id": "a8f0fd9e",
   "metadata": {},
   "source": [
    "## DATA WRANGLING"
   ]
  },
  {
   "cell_type": "code",
   "execution_count": 5,
   "id": "18ba89c3",
   "metadata": {},
   "outputs": [
    {
     "data": {
      "text/plain": [
       "PatientId         0\n",
       "AppointmentID     0\n",
       "Gender            0\n",
       "ScheduledDay      0\n",
       "AppointmentDay    0\n",
       "Age               0\n",
       "Neighbourhood     0\n",
       "Scholarship       0\n",
       "Hipertension      0\n",
       "Diabetes          0\n",
       "Alcoholism        0\n",
       "Handcap           0\n",
       "SMS_received      0\n",
       "No-show           0\n",
       "dtype: int64"
      ]
     },
     "execution_count": 5,
     "metadata": {},
     "output_type": "execute_result"
    }
   ],
   "source": [
    "#check if there a null value\n",
    "data.isnull().sum()"
   ]
  },
  {
   "cell_type": "markdown",
   "id": "bee0d94a",
   "metadata": {},
   "source": [
    "There is not have any missing value in the dataset"
   ]
  },
  {
   "cell_type": "code",
   "execution_count": 6,
   "id": "221e9f0e",
   "metadata": {},
   "outputs": [
    {
     "name": "stdout",
     "output_type": "stream",
     "text": [
      "<class 'pandas.core.frame.DataFrame'>\n",
      "RangeIndex: 110527 entries, 0 to 110526\n",
      "Data columns (total 14 columns):\n",
      " #   Column          Non-Null Count   Dtype  \n",
      "---  ------          --------------   -----  \n",
      " 0   PatientId       110527 non-null  float64\n",
      " 1   AppointmentID   110527 non-null  int64  \n",
      " 2   Gender          110527 non-null  object \n",
      " 3   ScheduledDay    110527 non-null  object \n",
      " 4   AppointmentDay  110527 non-null  object \n",
      " 5   Age             110527 non-null  int64  \n",
      " 6   Neighbourhood   110527 non-null  object \n",
      " 7   Scholarship     110527 non-null  int64  \n",
      " 8   Hipertension    110527 non-null  int64  \n",
      " 9   Diabetes        110527 non-null  int64  \n",
      " 10  Alcoholism      110527 non-null  int64  \n",
      " 11  Handcap         110527 non-null  int64  \n",
      " 12  SMS_received    110527 non-null  int64  \n",
      " 13  No-show         110527 non-null  object \n",
      "dtypes: float64(1), int64(8), object(5)\n",
      "memory usage: 11.8+ MB\n"
     ]
    }
   ],
   "source": [
    "#check for more information about each column of the dataset (datatype, Non_Null count)\n",
    "data.info()"
   ]
  },
  {
   "cell_type": "markdown",
   "id": "61348d74",
   "metadata": {},
   "source": [
    "- The Dtype of the dataset's variables are intact except for the 'ScheduledDay' and 'AppointmentDay' which needed to be in datetime"
   ]
  },
  {
   "cell_type": "code",
   "execution_count": 7,
   "id": "d5ff734d",
   "metadata": {},
   "outputs": [
    {
     "data": {
      "text/plain": [
       "0"
      ]
     },
     "execution_count": 7,
     "metadata": {},
     "output_type": "execute_result"
    }
   ],
   "source": [
    "#Check if there is any duplicated row\n",
    "data.duplicated().sum()"
   ]
  },
  {
   "cell_type": "code",
   "execution_count": 8,
   "id": "5ea8b61c",
   "metadata": {},
   "outputs": [
    {
     "data": {
      "text/plain": [
       "PatientId          62299\n",
       "AppointmentID     110527\n",
       "Gender                 2\n",
       "ScheduledDay      103549\n",
       "AppointmentDay        27\n",
       "Age                  104\n",
       "Neighbourhood         81\n",
       "Scholarship            2\n",
       "Hipertension           2\n",
       "Diabetes               2\n",
       "Alcoholism             2\n",
       "Handcap                5\n",
       "SMS_received           2\n",
       "No-show                2\n",
       "dtype: int64"
      ]
     },
     "execution_count": 8,
     "metadata": {},
     "output_type": "execute_result"
    }
   ],
   "source": [
    "#check for number of unique in each column\n",
    "data.nunique()"
   ]
  },
  {
   "cell_type": "code",
   "execution_count": 9,
   "id": "d9653184",
   "metadata": {},
   "outputs": [],
   "source": [
    "#change the datatype of the column 'AppointmentDay' and 'ScheduledDay' to datetime dtype\n",
    "data['AppointmentDay'] = pd.to_datetime(data['AppointmentDay'])\n",
    "data['ScheduledDay'] = pd.to_datetime(data['ScheduledDay'])"
   ]
  },
  {
   "cell_type": "markdown",
   "id": "717ecdc1",
   "metadata": {},
   "source": [
    "- The Datatype of the column 'AppointmentDay' and 'ScheduledDay' has been changed to datetime dtype "
   ]
  },
  {
   "cell_type": "code",
   "execution_count": 10,
   "id": "7c06b9bb",
   "metadata": {},
   "outputs": [
    {
     "name": "stdout",
     "output_type": "stream",
     "text": [
      "<class 'pandas.core.frame.DataFrame'>\n",
      "RangeIndex: 110527 entries, 0 to 110526\n",
      "Data columns (total 14 columns):\n",
      " #   Column          Non-Null Count   Dtype              \n",
      "---  ------          --------------   -----              \n",
      " 0   PatientId       110527 non-null  float64            \n",
      " 1   AppointmentID   110527 non-null  int64              \n",
      " 2   Gender          110527 non-null  object             \n",
      " 3   ScheduledDay    110527 non-null  datetime64[ns, UTC]\n",
      " 4   AppointmentDay  110527 non-null  datetime64[ns, UTC]\n",
      " 5   Age             110527 non-null  int64              \n",
      " 6   Neighbourhood   110527 non-null  object             \n",
      " 7   Scholarship     110527 non-null  int64              \n",
      " 8   Hipertension    110527 non-null  int64              \n",
      " 9   Diabetes        110527 non-null  int64              \n",
      " 10  Alcoholism      110527 non-null  int64              \n",
      " 11  Handcap         110527 non-null  int64              \n",
      " 12  SMS_received    110527 non-null  int64              \n",
      " 13  No-show         110527 non-null  object             \n",
      "dtypes: datetime64[ns, UTC](2), float64(1), int64(8), object(3)\n",
      "memory usage: 11.8+ MB\n"
     ]
    }
   ],
   "source": [
    "#checking out the changes \n",
    "data.info()\n"
   ]
  },
  {
   "cell_type": "markdown",
   "id": "8025f837",
   "metadata": {},
   "source": [
    "#### Data Cleaning"
   ]
  },
  {
   "cell_type": "code",
   "execution_count": 11,
   "id": "96d982cf",
   "metadata": {},
   "outputs": [],
   "source": [
    "#rename the column name 'ScheduledDay' and 'AppointmentDay' for clarity and user friendly\n",
    "data = data.rename(columns = {'ScheduledDay': 'ScheduledDate' })\n",
    "data = data.rename(columns = {'AppointmentDay': 'AppointmentDate' })"
   ]
  },
  {
   "cell_type": "markdown",
   "id": "adbfc259",
   "metadata": {},
   "source": [
    "- It was neccessary to specify what each columns holds, for exmaple the column 'ScheduledDay' holds the dates. therefore, the column name was needed to be changed to ScheduledDate. In further analysis, we create have a column named ScheduledDay whcih will show the exact day from the dy of the week"
   ]
  },
  {
   "cell_type": "code",
   "execution_count": 12,
   "id": "6b05f57d",
   "metadata": {},
   "outputs": [
    {
     "data": {
      "text/html": [
       "<div>\n",
       "<style scoped>\n",
       "    .dataframe tbody tr th:only-of-type {\n",
       "        vertical-align: middle;\n",
       "    }\n",
       "\n",
       "    .dataframe tbody tr th {\n",
       "        vertical-align: top;\n",
       "    }\n",
       "\n",
       "    .dataframe thead th {\n",
       "        text-align: right;\n",
       "    }\n",
       "</style>\n",
       "<table border=\"1\" class=\"dataframe\">\n",
       "  <thead>\n",
       "    <tr style=\"text-align: right;\">\n",
       "      <th></th>\n",
       "      <th>PatientId</th>\n",
       "      <th>AppointmentID</th>\n",
       "      <th>Gender</th>\n",
       "      <th>ScheduledDate</th>\n",
       "      <th>AppointmentDate</th>\n",
       "      <th>Age</th>\n",
       "      <th>Neighbourhood</th>\n",
       "      <th>Scholarship</th>\n",
       "      <th>Hipertension</th>\n",
       "      <th>Diabetes</th>\n",
       "      <th>Alcoholism</th>\n",
       "      <th>Handcap</th>\n",
       "      <th>SMS_received</th>\n",
       "      <th>No-show</th>\n",
       "    </tr>\n",
       "  </thead>\n",
       "  <tbody>\n",
       "    <tr>\n",
       "      <th>0</th>\n",
       "      <td>2.987250e+13</td>\n",
       "      <td>5642903</td>\n",
       "      <td>F</td>\n",
       "      <td>2016-04-29 18:38:08+00:00</td>\n",
       "      <td>2016-04-29 00:00:00+00:00</td>\n",
       "      <td>62</td>\n",
       "      <td>JARDIM DA PENHA</td>\n",
       "      <td>0</td>\n",
       "      <td>1</td>\n",
       "      <td>0</td>\n",
       "      <td>0</td>\n",
       "      <td>0</td>\n",
       "      <td>0</td>\n",
       "      <td>No</td>\n",
       "    </tr>\n",
       "    <tr>\n",
       "      <th>1</th>\n",
       "      <td>5.589978e+14</td>\n",
       "      <td>5642503</td>\n",
       "      <td>M</td>\n",
       "      <td>2016-04-29 16:08:27+00:00</td>\n",
       "      <td>2016-04-29 00:00:00+00:00</td>\n",
       "      <td>56</td>\n",
       "      <td>JARDIM DA PENHA</td>\n",
       "      <td>0</td>\n",
       "      <td>0</td>\n",
       "      <td>0</td>\n",
       "      <td>0</td>\n",
       "      <td>0</td>\n",
       "      <td>0</td>\n",
       "      <td>No</td>\n",
       "    </tr>\n",
       "    <tr>\n",
       "      <th>2</th>\n",
       "      <td>4.262962e+12</td>\n",
       "      <td>5642549</td>\n",
       "      <td>F</td>\n",
       "      <td>2016-04-29 16:19:04+00:00</td>\n",
       "      <td>2016-04-29 00:00:00+00:00</td>\n",
       "      <td>62</td>\n",
       "      <td>MATA DA PRAIA</td>\n",
       "      <td>0</td>\n",
       "      <td>0</td>\n",
       "      <td>0</td>\n",
       "      <td>0</td>\n",
       "      <td>0</td>\n",
       "      <td>0</td>\n",
       "      <td>No</td>\n",
       "    </tr>\n",
       "    <tr>\n",
       "      <th>3</th>\n",
       "      <td>8.679512e+11</td>\n",
       "      <td>5642828</td>\n",
       "      <td>F</td>\n",
       "      <td>2016-04-29 17:29:31+00:00</td>\n",
       "      <td>2016-04-29 00:00:00+00:00</td>\n",
       "      <td>8</td>\n",
       "      <td>PONTAL DE CAMBURI</td>\n",
       "      <td>0</td>\n",
       "      <td>0</td>\n",
       "      <td>0</td>\n",
       "      <td>0</td>\n",
       "      <td>0</td>\n",
       "      <td>0</td>\n",
       "      <td>No</td>\n",
       "    </tr>\n",
       "  </tbody>\n",
       "</table>\n",
       "</div>"
      ],
      "text/plain": [
       "      PatientId  AppointmentID Gender             ScheduledDate  \\\n",
       "0  2.987250e+13        5642903      F 2016-04-29 18:38:08+00:00   \n",
       "1  5.589978e+14        5642503      M 2016-04-29 16:08:27+00:00   \n",
       "2  4.262962e+12        5642549      F 2016-04-29 16:19:04+00:00   \n",
       "3  8.679512e+11        5642828      F 2016-04-29 17:29:31+00:00   \n",
       "\n",
       "            AppointmentDate  Age      Neighbourhood  Scholarship  \\\n",
       "0 2016-04-29 00:00:00+00:00   62    JARDIM DA PENHA            0   \n",
       "1 2016-04-29 00:00:00+00:00   56    JARDIM DA PENHA            0   \n",
       "2 2016-04-29 00:00:00+00:00   62      MATA DA PRAIA            0   \n",
       "3 2016-04-29 00:00:00+00:00    8  PONTAL DE CAMBURI            0   \n",
       "\n",
       "   Hipertension  Diabetes  Alcoholism  Handcap  SMS_received No-show  \n",
       "0             1         0           0        0             0      No  \n",
       "1             0         0           0        0             0      No  \n",
       "2             0         0           0        0             0      No  \n",
       "3             0         0           0        0             0      No  "
      ]
     },
     "execution_count": 12,
     "metadata": {},
     "output_type": "execute_result"
    }
   ],
   "source": [
    "#check if change previous changes is implimented\n",
    "data.head(4)"
   ]
  },
  {
   "cell_type": "code",
   "execution_count": 13,
   "id": "95825df4",
   "metadata": {},
   "outputs": [],
   "source": [
    "#Correct the misspelt column names\n",
    "data = data.rename(columns = {'Hipertension': 'Hypertension' })\n",
    "data = data.rename(columns = {'Handcap': 'Handicap' })"
   ]
  },
  {
   "cell_type": "code",
   "execution_count": 14,
   "id": "2113da20",
   "metadata": {},
   "outputs": [],
   "source": [
    "#replace the value in cloumn 'No-show' for more clarity \n",
    "data['No-show'] = data['No-show'].replace(['No', 'Yes'],['ShowedUp','NotShowUp'])"
   ]
  },
  {
   "cell_type": "markdown",
   "id": "254158a2",
   "metadata": {},
   "source": [
    "- The values of the variable 'No-Show' was needed to be changed to more understanding of the reader."
   ]
  },
  {
   "cell_type": "markdown",
   "id": "6f5a441c",
   "metadata": {},
   "source": [
    "Feature Engeneering"
   ]
  },
  {
   "cell_type": "code",
   "execution_count": 15,
   "id": "ba240b3d",
   "metadata": {},
   "outputs": [],
   "source": [
    "#extracting the specific Scheduled Day and Appointment Day from the dates\n",
    "data['ScheduledDay'] = data['ScheduledDate'].dt.day_name()\n",
    "data['AppointmentDay'] = data['AppointmentDate'].dt.day_name()"
   ]
  },
  {
   "cell_type": "code",
   "execution_count": 16,
   "id": "3a3bca5a",
   "metadata": {},
   "outputs": [],
   "source": [
    "#extracting the specific Scheduled Month and Appointment Month from the dates\n",
    "data['ScheduledMonth'] = data['ScheduledDate'].dt.month_name()\n",
    "data['AppointmentMonth'] = data['AppointmentDate'].dt.month_name()"
   ]
  },
  {
   "cell_type": "code",
   "execution_count": 17,
   "id": "c78509f3",
   "metadata": {},
   "outputs": [],
   "source": [
    "##extracting the specific Appointment Year from the datetime\n",
    "data['AppointmentYear'] = pd.DatetimeIndex(data['AppointmentDate']).year"
   ]
  },
  {
   "cell_type": "code",
   "execution_count": 18,
   "id": "efb584b2",
   "metadata": {},
   "outputs": [
    {
     "data": {
      "text/plain": [
       "2016    110527\n",
       "Name: AppointmentYear, dtype: int64"
      ]
     },
     "execution_count": 18,
     "metadata": {},
     "output_type": "execute_result"
    }
   ],
   "source": [
    "#check the different years present in the dataset\n",
    "data['AppointmentYear'].value_counts()"
   ]
  },
  {
   "cell_type": "markdown",
   "id": "0a89198c",
   "metadata": {},
   "source": [
    "- New columns were created for each specific ScheduledDay, ScheduledMonth as well as AppointmentDay, AppointmentMonth. This will help us explore more of the data"
   ]
  },
  {
   "cell_type": "code",
   "execution_count": 19,
   "id": "d6fa7090",
   "metadata": {},
   "outputs": [
    {
     "data": {
      "text/html": [
       "<div>\n",
       "<style scoped>\n",
       "    .dataframe tbody tr th:only-of-type {\n",
       "        vertical-align: middle;\n",
       "    }\n",
       "\n",
       "    .dataframe tbody tr th {\n",
       "        vertical-align: top;\n",
       "    }\n",
       "\n",
       "    .dataframe thead th {\n",
       "        text-align: right;\n",
       "    }\n",
       "</style>\n",
       "<table border=\"1\" class=\"dataframe\">\n",
       "  <thead>\n",
       "    <tr style=\"text-align: right;\">\n",
       "      <th></th>\n",
       "      <th>PatientId</th>\n",
       "      <th>AppointmentID</th>\n",
       "      <th>Gender</th>\n",
       "      <th>ScheduledDate</th>\n",
       "      <th>AppointmentDate</th>\n",
       "      <th>Age</th>\n",
       "      <th>Neighbourhood</th>\n",
       "      <th>Scholarship</th>\n",
       "      <th>Hypertension</th>\n",
       "      <th>Diabetes</th>\n",
       "      <th>Alcoholism</th>\n",
       "      <th>Handicap</th>\n",
       "      <th>SMS_received</th>\n",
       "      <th>No-show</th>\n",
       "      <th>ScheduledDay</th>\n",
       "      <th>AppointmentDay</th>\n",
       "      <th>ScheduledMonth</th>\n",
       "      <th>AppointmentMonth</th>\n",
       "      <th>AppointmentYear</th>\n",
       "    </tr>\n",
       "  </thead>\n",
       "  <tbody>\n",
       "    <tr>\n",
       "      <th>0</th>\n",
       "      <td>2.987250e+13</td>\n",
       "      <td>5642903</td>\n",
       "      <td>F</td>\n",
       "      <td>2016-04-29 18:38:08+00:00</td>\n",
       "      <td>2016-04-29 00:00:00+00:00</td>\n",
       "      <td>62</td>\n",
       "      <td>JARDIM DA PENHA</td>\n",
       "      <td>0</td>\n",
       "      <td>1</td>\n",
       "      <td>0</td>\n",
       "      <td>0</td>\n",
       "      <td>0</td>\n",
       "      <td>0</td>\n",
       "      <td>ShowedUp</td>\n",
       "      <td>Friday</td>\n",
       "      <td>Friday</td>\n",
       "      <td>April</td>\n",
       "      <td>April</td>\n",
       "      <td>2016</td>\n",
       "    </tr>\n",
       "    <tr>\n",
       "      <th>1</th>\n",
       "      <td>5.589978e+14</td>\n",
       "      <td>5642503</td>\n",
       "      <td>M</td>\n",
       "      <td>2016-04-29 16:08:27+00:00</td>\n",
       "      <td>2016-04-29 00:00:00+00:00</td>\n",
       "      <td>56</td>\n",
       "      <td>JARDIM DA PENHA</td>\n",
       "      <td>0</td>\n",
       "      <td>0</td>\n",
       "      <td>0</td>\n",
       "      <td>0</td>\n",
       "      <td>0</td>\n",
       "      <td>0</td>\n",
       "      <td>ShowedUp</td>\n",
       "      <td>Friday</td>\n",
       "      <td>Friday</td>\n",
       "      <td>April</td>\n",
       "      <td>April</td>\n",
       "      <td>2016</td>\n",
       "    </tr>\n",
       "    <tr>\n",
       "      <th>2</th>\n",
       "      <td>4.262962e+12</td>\n",
       "      <td>5642549</td>\n",
       "      <td>F</td>\n",
       "      <td>2016-04-29 16:19:04+00:00</td>\n",
       "      <td>2016-04-29 00:00:00+00:00</td>\n",
       "      <td>62</td>\n",
       "      <td>MATA DA PRAIA</td>\n",
       "      <td>0</td>\n",
       "      <td>0</td>\n",
       "      <td>0</td>\n",
       "      <td>0</td>\n",
       "      <td>0</td>\n",
       "      <td>0</td>\n",
       "      <td>ShowedUp</td>\n",
       "      <td>Friday</td>\n",
       "      <td>Friday</td>\n",
       "      <td>April</td>\n",
       "      <td>April</td>\n",
       "      <td>2016</td>\n",
       "    </tr>\n",
       "    <tr>\n",
       "      <th>3</th>\n",
       "      <td>8.679512e+11</td>\n",
       "      <td>5642828</td>\n",
       "      <td>F</td>\n",
       "      <td>2016-04-29 17:29:31+00:00</td>\n",
       "      <td>2016-04-29 00:00:00+00:00</td>\n",
       "      <td>8</td>\n",
       "      <td>PONTAL DE CAMBURI</td>\n",
       "      <td>0</td>\n",
       "      <td>0</td>\n",
       "      <td>0</td>\n",
       "      <td>0</td>\n",
       "      <td>0</td>\n",
       "      <td>0</td>\n",
       "      <td>ShowedUp</td>\n",
       "      <td>Friday</td>\n",
       "      <td>Friday</td>\n",
       "      <td>April</td>\n",
       "      <td>April</td>\n",
       "      <td>2016</td>\n",
       "    </tr>\n",
       "  </tbody>\n",
       "</table>\n",
       "</div>"
      ],
      "text/plain": [
       "      PatientId  AppointmentID Gender             ScheduledDate  \\\n",
       "0  2.987250e+13        5642903      F 2016-04-29 18:38:08+00:00   \n",
       "1  5.589978e+14        5642503      M 2016-04-29 16:08:27+00:00   \n",
       "2  4.262962e+12        5642549      F 2016-04-29 16:19:04+00:00   \n",
       "3  8.679512e+11        5642828      F 2016-04-29 17:29:31+00:00   \n",
       "\n",
       "            AppointmentDate  Age      Neighbourhood  Scholarship  \\\n",
       "0 2016-04-29 00:00:00+00:00   62    JARDIM DA PENHA            0   \n",
       "1 2016-04-29 00:00:00+00:00   56    JARDIM DA PENHA            0   \n",
       "2 2016-04-29 00:00:00+00:00   62      MATA DA PRAIA            0   \n",
       "3 2016-04-29 00:00:00+00:00    8  PONTAL DE CAMBURI            0   \n",
       "\n",
       "   Hypertension  Diabetes  Alcoholism  Handicap  SMS_received   No-show  \\\n",
       "0             1         0           0         0             0  ShowedUp   \n",
       "1             0         0           0         0             0  ShowedUp   \n",
       "2             0         0           0         0             0  ShowedUp   \n",
       "3             0         0           0         0             0  ShowedUp   \n",
       "\n",
       "  ScheduledDay AppointmentDay ScheduledMonth AppointmentMonth  AppointmentYear  \n",
       "0       Friday         Friday          April            April             2016  \n",
       "1       Friday         Friday          April            April             2016  \n",
       "2       Friday         Friday          April            April             2016  \n",
       "3       Friday         Friday          April            April             2016  "
      ]
     },
     "execution_count": 19,
     "metadata": {},
     "output_type": "execute_result"
    }
   ],
   "source": [
    "#Check if the created columns are implemented\n",
    "data.head(4)"
   ]
  },
  {
   "cell_type": "code",
   "execution_count": 20,
   "id": "9f4ae642",
   "metadata": {},
   "outputs": [],
   "source": [
    "#remove the columns that are not needed for further analysis\n",
    "data.drop(['PatientId', 'AppointmentID', 'ScheduledDate', 'AppointmentDate'], axis = 1, inplace = True)"
   ]
  },
  {
   "cell_type": "markdown",
   "id": "967dd38b",
   "metadata": {},
   "source": [
    "Data Cleaning: </br>\n",
    "* Correct the columns spelling to 'Hipertension' to 'Hypertension' and 'Handcap' to 'Handicap'\n",
    "* Change the datatype of ScheduledDay and AppointmentDay to datetime dtype\n",
    "* Change ScheduledDay to ScheduledDate and AppointmentDay to AppointmentDate for specification\n",
    "* Extracted the ScheduledDay,ScheduledMonth,AppointmentDay,AppointmentDay and AppointmentYear from both ScheduledDate and AppointmentDate\n",
    "* Remove the columns 'PatientId', 'AppointmentID', 'ScheduledDate', 'AppointmentDate' that are not neccessary for further Exploratory Analysis"
   ]
  },
  {
   "cell_type": "code",
   "execution_count": 21,
   "id": "9ef26bb8",
   "metadata": {},
   "outputs": [
    {
     "data": {
      "text/html": [
       "<div>\n",
       "<style scoped>\n",
       "    .dataframe tbody tr th:only-of-type {\n",
       "        vertical-align: middle;\n",
       "    }\n",
       "\n",
       "    .dataframe tbody tr th {\n",
       "        vertical-align: top;\n",
       "    }\n",
       "\n",
       "    .dataframe thead th {\n",
       "        text-align: right;\n",
       "    }\n",
       "</style>\n",
       "<table border=\"1\" class=\"dataframe\">\n",
       "  <thead>\n",
       "    <tr style=\"text-align: right;\">\n",
       "      <th></th>\n",
       "      <th>Gender</th>\n",
       "      <th>Age</th>\n",
       "      <th>Neighbourhood</th>\n",
       "      <th>Scholarship</th>\n",
       "      <th>Hypertension</th>\n",
       "      <th>Diabetes</th>\n",
       "      <th>Alcoholism</th>\n",
       "      <th>Handicap</th>\n",
       "      <th>SMS_received</th>\n",
       "      <th>No-show</th>\n",
       "      <th>ScheduledDay</th>\n",
       "      <th>AppointmentDay</th>\n",
       "      <th>ScheduledMonth</th>\n",
       "      <th>AppointmentMonth</th>\n",
       "      <th>AppointmentYear</th>\n",
       "    </tr>\n",
       "  </thead>\n",
       "  <tbody>\n",
       "    <tr>\n",
       "      <th>0</th>\n",
       "      <td>F</td>\n",
       "      <td>62</td>\n",
       "      <td>JARDIM DA PENHA</td>\n",
       "      <td>0</td>\n",
       "      <td>1</td>\n",
       "      <td>0</td>\n",
       "      <td>0</td>\n",
       "      <td>0</td>\n",
       "      <td>0</td>\n",
       "      <td>ShowedUp</td>\n",
       "      <td>Friday</td>\n",
       "      <td>Friday</td>\n",
       "      <td>April</td>\n",
       "      <td>April</td>\n",
       "      <td>2016</td>\n",
       "    </tr>\n",
       "    <tr>\n",
       "      <th>1</th>\n",
       "      <td>M</td>\n",
       "      <td>56</td>\n",
       "      <td>JARDIM DA PENHA</td>\n",
       "      <td>0</td>\n",
       "      <td>0</td>\n",
       "      <td>0</td>\n",
       "      <td>0</td>\n",
       "      <td>0</td>\n",
       "      <td>0</td>\n",
       "      <td>ShowedUp</td>\n",
       "      <td>Friday</td>\n",
       "      <td>Friday</td>\n",
       "      <td>April</td>\n",
       "      <td>April</td>\n",
       "      <td>2016</td>\n",
       "    </tr>\n",
       "    <tr>\n",
       "      <th>2</th>\n",
       "      <td>F</td>\n",
       "      <td>62</td>\n",
       "      <td>MATA DA PRAIA</td>\n",
       "      <td>0</td>\n",
       "      <td>0</td>\n",
       "      <td>0</td>\n",
       "      <td>0</td>\n",
       "      <td>0</td>\n",
       "      <td>0</td>\n",
       "      <td>ShowedUp</td>\n",
       "      <td>Friday</td>\n",
       "      <td>Friday</td>\n",
       "      <td>April</td>\n",
       "      <td>April</td>\n",
       "      <td>2016</td>\n",
       "    </tr>\n",
       "    <tr>\n",
       "      <th>3</th>\n",
       "      <td>F</td>\n",
       "      <td>8</td>\n",
       "      <td>PONTAL DE CAMBURI</td>\n",
       "      <td>0</td>\n",
       "      <td>0</td>\n",
       "      <td>0</td>\n",
       "      <td>0</td>\n",
       "      <td>0</td>\n",
       "      <td>0</td>\n",
       "      <td>ShowedUp</td>\n",
       "      <td>Friday</td>\n",
       "      <td>Friday</td>\n",
       "      <td>April</td>\n",
       "      <td>April</td>\n",
       "      <td>2016</td>\n",
       "    </tr>\n",
       "  </tbody>\n",
       "</table>\n",
       "</div>"
      ],
      "text/plain": [
       "  Gender  Age      Neighbourhood  Scholarship  Hypertension  Diabetes  \\\n",
       "0      F   62    JARDIM DA PENHA            0             1         0   \n",
       "1      M   56    JARDIM DA PENHA            0             0         0   \n",
       "2      F   62      MATA DA PRAIA            0             0         0   \n",
       "3      F    8  PONTAL DE CAMBURI            0             0         0   \n",
       "\n",
       "   Alcoholism  Handicap  SMS_received   No-show ScheduledDay AppointmentDay  \\\n",
       "0           0         0             0  ShowedUp       Friday         Friday   \n",
       "1           0         0             0  ShowedUp       Friday         Friday   \n",
       "2           0         0             0  ShowedUp       Friday         Friday   \n",
       "3           0         0             0  ShowedUp       Friday         Friday   \n",
       "\n",
       "  ScheduledMonth AppointmentMonth  AppointmentYear  \n",
       "0          April            April             2016  \n",
       "1          April            April             2016  \n",
       "2          April            April             2016  \n",
       "3          April            April             2016  "
      ]
     },
     "execution_count": 21,
     "metadata": {},
     "output_type": "execute_result"
    }
   ],
   "source": [
    "data.head(4)"
   ]
  },
  {
   "cell_type": "markdown",
   "id": "a1b2f9e4",
   "metadata": {},
   "source": [
    "## EXPLORATORY DATA ANALYSIS"
   ]
  },
  {
   "cell_type": "markdown",
   "id": "30484efd",
   "metadata": {},
   "source": [
    "The Percentage of each Gender for Scheduled Appointment "
   ]
  },
  {
   "cell_type": "code",
   "execution_count": 22,
   "id": "8eb3facc",
   "metadata": {},
   "outputs": [
    {
     "data": {
      "image/png": "[encoded data removed]",
      "text/plain": [
       "<Figure size 432x432 with 1 Axes>"
      ]
     },
     "metadata": {},
     "output_type": "display_data"
    }
   ],
   "source": [
    "#Show the Percentage of each Gender that booked an appointment \n",
    "plt.figure(figsize=(6,6))\n",
    "data['Gender'].value_counts().plot.pie(autopct=\"%1.1f%%\")\n",
    "plt.legend()\n",
    "plt.title ('Percentage of Scheduled Appointments by Gender', size =18)\n",
    "plt.show()"
   ]
  },
  {
   "cell_type": "code",
   "execution_count": 23,
   "id": "7aeaaa4f",
   "metadata": {},
   "outputs": [
    {
     "data": {
      "text/plain": [
       "F    71840\n",
       "M    38687\n",
       "Name: Gender, dtype: int64"
      ]
     },
     "execution_count": 23,
     "metadata": {},
     "output_type": "execute_result"
    }
   ],
   "source": [
    "#check for specifiic gender count\n",
    "data['Gender'].value_counts()"
   ]
  },
  {
   "cell_type": "markdown",
   "id": "a2b568ce",
   "metadata": {},
   "source": [
    "- We habe 65% of Female and 35% of Male for Scheduled appointment respectively, In counts,  71840 Female and 38687 Male Scheduled appointment respectively"
   ]
  },
  {
   "cell_type": "markdown",
   "id": "e60bfe38",
   "metadata": {},
   "source": [
    "## Question : What Age group have most Appontments Scheduled?"
   ]
  },
  {
   "cell_type": "code",
   "execution_count": 24,
   "id": "f8d27995",
   "metadata": {},
   "outputs": [
    {
     "data": {
      "text/plain": [
       "array([ 62,  56,   8,  76,  23,  39,  21,  19,  30,  29,  22,  28,  54,\n",
       "        15,  50,  40,  46,   4,  13,  65,  45,  51,  32,  12,  61,  38,\n",
       "        79,  18,  63,  64,  85,  59,  55,  71,  49,  78,  31,  58,  27,\n",
       "         6,   2,  11,   7,   0,   3,   1,  69,  68,  60,  67,  36,  10,\n",
       "        35,  20,  26,  34,  33,  16,  42,   5,  47,  17,  41,  44,  37,\n",
       "        24,  66,  77,  81,  70,  53,  75,  73,  52,  74,  43,  89,  57,\n",
       "        14,   9,  48,  83,  72,  25,  80,  87,  88,  84,  82,  90,  94,\n",
       "        86,  91,  98,  92,  96,  93,  95,  97, 102, 115, 100,  99,  -1],\n",
       "      dtype=int64)"
      ]
     },
     "execution_count": 24,
     "metadata": {},
     "output_type": "execute_result"
    }
   ],
   "source": [
    "data['Age'].unique()"
   ]
  },
  {
   "cell_type": "markdown",
   "id": "40314abf",
   "metadata": {},
   "source": [
    "* The presence -1 looks odd.\n",
    "lets drop that"
   ]
  },
  {
   "cell_type": "code",
   "execution_count": 25,
   "id": "1e9244b8",
   "metadata": {},
   "outputs": [],
   "source": [
    "#Drop any age that is less na 0\n",
    "data.drop(data[data['Age'] < 0 ].index, inplace = True)"
   ]
  },
  {
   "cell_type": "code",
   "execution_count": 26,
   "id": "6d6dad95",
   "metadata": {},
   "outputs": [
    {
     "data": {
      "text/plain": [
       "0"
      ]
     },
     "execution_count": 26,
     "metadata": {},
     "output_type": "execute_result"
    }
   ],
   "source": [
    "#check\n",
    "data[data['Age'] < 0].shape[0]"
   ]
  },
  {
   "cell_type": "markdown",
   "id": "ebd9f1b1",
   "metadata": {},
   "source": [
    "What Age group have most Appontments Scheduled?"
   ]
  },
  {
   "cell_type": "code",
   "execution_count": 27,
   "id": "c4941874",
   "metadata": {},
   "outputs": [
    {
     "data": {
      "text/plain": [
       "0     3539\n",
       "1     2273\n",
       "52    1746\n",
       "49    1652\n",
       "53    1651\n",
       "56    1635\n",
       "38    1629\n",
       "59    1624\n",
       "2     1618\n",
       "50    1613\n",
       "Name: Age, dtype: int64"
      ]
     },
     "execution_count": 27,
     "metadata": {},
     "output_type": "execute_result"
    }
   ],
   "source": [
    "#Lets check the top 10 ages that booked appointments\n",
    "data['Age'].value_counts().head(10)"
   ]
  },
  {
   "cell_type": "code",
   "execution_count": 28,
   "id": "a0288142",
   "metadata": {},
   "outputs": [
    {
     "data": {
      "text/plain": [
       "Text(0.5, 1.0, 'Top Age Present by Doctors Appointment')"
      ]
     },
     "execution_count": 28,
     "metadata": {},
     "output_type": "execute_result"
    },
    {
     "data": {
      "image/png": "[encoded data removed]",
      "text/plain": [
       "<Figure size 720x432 with 1 Axes>"
      ]
     },
     "metadata": {
      "needs_background": "light"
     },
     "output_type": "display_data"
    }
   ],
   "source": [
    "plt.figure(figsize = (10,6))\n",
    "data['Age'].value_counts().head(10).plot.bar()\n",
    "plt.legend()\n",
    "plt.xlabel('Ages')\n",
    "plt.ylabel('Age Count')\n",
    "plt.title('Top Age Present by Doctors Appointment', size = 18)"
   ]
  },
  {
   "cell_type": "markdown",
   "id": "1f7b1dec",
   "metadata": {},
   "source": [
    "- Infant in age bracket 0-1 have the highest appointment scheduled. of Adult, Also Age above 40 are noticeable "
   ]
  },
  {
   "cell_type": "markdown",
   "id": "ef5da786",
   "metadata": {},
   "source": [
    "Neighbourhood"
   ]
  },
  {
   "cell_type": "code",
   "execution_count": 29,
   "id": "e6443779",
   "metadata": {},
   "outputs": [
    {
     "data": {
      "text/plain": [
       "array(['JARDIM DA PENHA', 'MATA DA PRAIA', 'PONTAL DE CAMBURI',\n",
       "       'REPÚBLICA', 'GOIABEIRAS', 'ANDORINHAS', 'CONQUISTA',\n",
       "       'NOVA PALESTINA', 'DA PENHA', 'TABUAZEIRO', 'BENTO FERREIRA',\n",
       "       'SÃO PEDRO', 'SANTA MARTHA', 'SÃO CRISTÓVÃO', 'MARUÍPE',\n",
       "       'GRANDE VITÓRIA', 'SÃO BENEDITO', 'ILHA DAS CAIEIRAS',\n",
       "       'SANTO ANDRÉ', 'SOLON BORGES', 'BONFIM', 'JARDIM CAMBURI',\n",
       "       'MARIA ORTIZ', 'JABOUR', 'ANTÔNIO HONÓRIO', 'RESISTÊNCIA',\n",
       "       'ILHA DE SANTA MARIA', 'JUCUTUQUARA', 'MONTE BELO',\n",
       "       'MÁRIO CYPRESTE', 'SANTO ANTÔNIO', 'BELA VISTA', 'PRAIA DO SUÁ',\n",
       "       'SANTA HELENA', 'ITARARÉ', 'INHANGUETÁ', 'UNIVERSITÁRIO',\n",
       "       'SÃO JOSÉ', 'REDENÇÃO', 'SANTA CLARA', 'CENTRO', 'PARQUE MOSCOSO',\n",
       "       'DO MOSCOSO', 'SANTOS DUMONT', 'CARATOÍRA', 'ARIOVALDO FAVALESSA',\n",
       "       'ILHA DO FRADE', 'GURIGICA', 'JOANA D´ARC', 'CONSOLAÇÃO',\n",
       "       'PRAIA DO CANTO', 'BOA VISTA', 'MORADA DE CAMBURI', 'SANTA LUÍZA',\n",
       "       'SANTA LÚCIA', 'BARRO VERMELHO', 'ESTRELINHA', 'FORTE SÃO JOÃO',\n",
       "       'FONTE GRANDE', 'ENSEADA DO SUÁ', 'SANTOS REIS', 'PIEDADE',\n",
       "       'JESUS DE NAZARETH', 'SANTA TEREZA', 'CRUZAMENTO',\n",
       "       'ILHA DO PRÍNCIPE', 'ROMÃO', 'COMDUSA', 'SANTA CECÍLIA',\n",
       "       'VILA RUBIM', 'DE LOURDES', 'DO QUADRO', 'DO CABRAL', 'HORTO',\n",
       "       'SEGURANÇA DO LAR', 'ILHA DO BOI', 'FRADINHOS', 'NAZARETH',\n",
       "       'AEROPORTO', 'ILHAS OCEÂNICAS DE TRINDADE', 'PARQUE INDUSTRIAL'],\n",
       "      dtype=object)"
      ]
     },
     "execution_count": 29,
     "metadata": {},
     "output_type": "execute_result"
    }
   ],
   "source": [
    "#Check for the unique value in the column 'Neighbourhood'\n",
    "data['Neighbourhood'].unique()"
   ]
  },
  {
   "cell_type": "code",
   "execution_count": 30,
   "id": "af48132b",
   "metadata": {},
   "outputs": [
    {
     "data": {
      "text/plain": [
       "Text(0.5, 1.0, 'Top Neighbourhoods with Doctors Scheduled Appointment')"
      ]
     },
     "execution_count": 30,
     "metadata": {},
     "output_type": "execute_result"
    },
    {
     "data": {
      "image/png": "[encoded data removed]",
      "text/plain": [
       "<Figure size 720x432 with 1 Axes>"
      ]
     },
     "metadata": {
      "needs_background": "light"
     },
     "output_type": "display_data"
    }
   ],
   "source": [
    "#show the top Neighbourhoods with most scheduled appointment  \n",
    "plt.figure(figsize = (10,6))\n",
    "data['Neighbourhood'].value_counts().head(10).plot.bar()\n",
    "plt.legend()\n",
    "plt.xlabel('Neighbourhoods')\n",
    "plt.ylabel('Apointment Count')\n",
    "plt.title('Top Neighbourhoods with Doctors Scheduled Appointment', size = 18)\n"
   ]
  },
  {
   "cell_type": "code",
   "execution_count": 31,
   "id": "fd95e254",
   "metadata": {},
   "outputs": [
    {
     "data": {
      "text/plain": [
       "JARDIM CAMBURI       7717\n",
       "MARIA ORTIZ          5805\n",
       "RESISTÊNCIA          4431\n",
       "JARDIM DA PENHA      3877\n",
       "ITARARÉ              3514\n",
       "CENTRO               3334\n",
       "TABUAZEIRO           3132\n",
       "SANTA MARTHA         3131\n",
       "JESUS DE NAZARETH    2853\n",
       "BONFIM               2773\n",
       "Name: Neighbourhood, dtype: int64"
      ]
     },
     "execution_count": 31,
     "metadata": {},
     "output_type": "execute_result"
    }
   ],
   "source": [
    "# top 10 Neighbourhoods with scheduled appointments by count\n",
    "data['Neighbourhood'].value_counts().head(10)\n"
   ]
  },
  {
   "cell_type": "markdown",
   "id": "96d139df",
   "metadata": {},
   "source": [
    "\n",
    "- Of 81 Neighbourhoods, Most appointments are booked with the doctors by patients in the JARDIM CAMBURI Neighbourhood "
   ]
  },
  {
   "cell_type": "code",
   "execution_count": 32,
   "id": "8ed134ad",
   "metadata": {},
   "outputs": [],
   "source": [
    "#define a function to perform a countplot\n",
    "def Countplot(col):\n",
    "    '''define a function to take in a column for countplot'''\n",
    "    plt.figure(figsize = (10,5))\n",
    "    countplot  =sns.countplot(x = col, data = data)\n",
    "    return countplot"
   ]
  },
  {
   "cell_type": "code",
   "execution_count": 33,
   "id": "e70da7d3",
   "metadata": {},
   "outputs": [
    {
     "data": {
      "text/plain": [
       "Text(0.5, 1.0, 'Scheduled Appointment Counts by Scholarship Patients')"
      ]
     },
     "execution_count": 33,
     "metadata": {},
     "output_type": "execute_result"
    },
    {
     "data": {
      "image/png": "[encoded data removed]",
      "text/plain": [
       "<Figure size 720x360 with 1 Axes>"
      ]
     },
     "metadata": {
      "needs_background": "light"
     },
     "output_type": "display_data"
    }
   ],
   "source": [
    "#Plot the count of those that are given Scholarship and those that are not\n",
    "Countplot('Scholarship')\n",
    "plt.title('Scheduled Appointment Counts by Scholarship Patients', size = 15)"
   ]
  },
  {
   "cell_type": "markdown",
   "id": "b7264489",
   "metadata": {},
   "source": [
    "Hypertension"
   ]
  },
  {
   "cell_type": "code",
   "execution_count": 34,
   "id": "72c898cc",
   "metadata": {},
   "outputs": [
    {
     "data": {
      "text/plain": [
       "Text(0.5, 1.0, 'Scheduled Appointment Counts by Hypertensive Patients')"
      ]
     },
     "execution_count": 34,
     "metadata": {},
     "output_type": "execute_result"
    },
    {
     "data": {
      "image/png": "[encoded data removed]",
      "text/plain": [
       "<Figure size 720x360 with 1 Axes>"
      ]
     },
     "metadata": {
      "needs_background": "light"
     },
     "output_type": "display_data"
    }
   ],
   "source": [
    "#Plot the count of those that are Hypertensive and those that are not\n",
    "Countplot('Hypertension')\n",
    "plt.title('Scheduled Appointment Counts by Hypertensive Patients', size = 15)"
   ]
  },
  {
   "cell_type": "code",
   "execution_count": 35,
   "id": "dd19db1a",
   "metadata": {},
   "outputs": [
    {
     "data": {
      "text/plain": [
       "0    88725\n",
       "1    21801\n",
       "Name: Hypertension, dtype: int64"
      ]
     },
     "execution_count": 35,
     "metadata": {},
     "output_type": "execute_result"
    }
   ],
   "source": [
    "#show the specific count of those that are Hypertensive and those that are not\n",
    "data['Hypertension'].value_counts()"
   ]
  },
  {
   "cell_type": "markdown",
   "id": "2f8140b8",
   "metadata": {},
   "source": [
    "- There are 88726 recorded patients with Hypertension while 21801 without Hypertension"
   ]
  },
  {
   "cell_type": "markdown",
   "id": "ca27d4c7",
   "metadata": {},
   "source": [
    "Diabetes"
   ]
  },
  {
   "cell_type": "code",
   "execution_count": 36,
   "id": "d075ac13",
   "metadata": {},
   "outputs": [
    {
     "data": {
      "text/plain": [
       "Text(0.5, 1.0, 'Scheduled Appointment Counts by Diabetic Patients')"
      ]
     },
     "execution_count": 36,
     "metadata": {},
     "output_type": "execute_result"
    },
    {
     "data": {
      "image/png": "[encoded data removed]",
      "text/plain": [
       "<Figure size 720x360 with 1 Axes>"
      ]
     },
     "metadata": {
      "needs_background": "light"
     },
     "output_type": "display_data"
    }
   ],
   "source": [
    "#Plot the count of those that are Diabetic and those that are not\n",
    "Countplot('Diabetes')\n",
    "plt.title('Scheduled Appointment Counts by Diabetic Patients', size = 15)"
   ]
  },
  {
   "cell_type": "markdown",
   "id": "f48e8aa5",
   "metadata": {},
   "source": [
    "- There are more Diabetic patients than we do not have"
   ]
  },
  {
   "cell_type": "markdown",
   "id": "c32eb2e6",
   "metadata": {},
   "source": [
    "Alcoholism"
   ]
  },
  {
   "cell_type": "code",
   "execution_count": 37,
   "id": "04eb97f8",
   "metadata": {},
   "outputs": [
    {
     "data": {
      "text/plain": [
       "Text(0.5, 1.0, 'Scheduled Appointment Counts by Alcoholic patients')"
      ]
     },
     "execution_count": 37,
     "metadata": {},
     "output_type": "execute_result"
    },
    {
     "data": {
      "image/png": "[encoded data removed]",
      "text/plain": [
       "<Figure size 720x360 with 1 Axes>"
      ]
     },
     "metadata": {
      "needs_background": "light"
     },
     "output_type": "display_data"
    }
   ],
   "source": [
    "#Plot the count of those that are Alcoholic and those that are not\n",
    "Countplot('Alcoholism')\n",
    "plt.title('Scheduled Appointment Counts by Alcoholic patients' , size = 15)"
   ]
  },
  {
   "cell_type": "code",
   "execution_count": 38,
   "id": "80d01056",
   "metadata": {},
   "outputs": [
    {
     "data": {
      "text/plain": [
       "0    107166\n",
       "1      3360\n",
       "Name: Alcoholism, dtype: int64"
      ]
     },
     "execution_count": 38,
     "metadata": {},
     "output_type": "execute_result"
    }
   ],
   "source": [
    "#Show the specfic count of those that are Diabetic and those that are not\n",
    "data['Alcoholism'].value_counts()"
   ]
  },
  {
   "cell_type": "markdown",
   "id": "251f789f",
   "metadata": {},
   "source": [
    "- We recorded 107167 Alcoholic patients and 3360 Non-alcoholic patient book Appointment with the doctors"
   ]
  },
  {
   "cell_type": "markdown",
   "id": "36415f47",
   "metadata": {},
   "source": [
    "SMS_received"
   ]
  },
  {
   "cell_type": "code",
   "execution_count": 39,
   "id": "0dff1233",
   "metadata": {},
   "outputs": [
    {
     "data": {
      "text/plain": [
       "Text(0.5, 1.0, 'Scheduled Appointment Counts by SMS_received Patients')"
      ]
     },
     "execution_count": 39,
     "metadata": {},
     "output_type": "execute_result"
    },
    {
     "data": {
      "image/png": "[encoded data removed]",
      "text/plain": [
       "<Figure size 720x360 with 1 Axes>"
      ]
     },
     "metadata": {
      "needs_background": "light"
     },
     "output_type": "display_data"
    }
   ],
   "source": [
    "#Plot the count of those that recieved SMS and those that do not\n",
    "Countplot('SMS_received')\n",
    "plt.title('Scheduled Appointment Counts by SMS_received Patients', size = 15)"
   ]
  },
  {
   "cell_type": "code",
   "execution_count": 40,
   "id": "55c3429a",
   "metadata": {},
   "outputs": [
    {
     "data": {
      "text/plain": [
       "0    75044\n",
       "1    35482\n",
       "Name: SMS_received, dtype: int64"
      ]
     },
     "execution_count": 40,
     "metadata": {},
     "output_type": "execute_result"
    }
   ],
   "source": [
    "#Show the count of those that recieved SMS and those that do not\n",
    "data['SMS_received'].value_counts()"
   ]
  },
  {
   "cell_type": "markdown",
   "id": "a7c7d039",
   "metadata": {},
   "source": [
    " - Of all scheduled Appointment, Only 35482 patients recieved an SMS while 75045 patients do not "
   ]
  },
  {
   "cell_type": "markdown",
   "id": "530cf522",
   "metadata": {},
   "source": [
    "## Question : Which day of the week do patients scheduled their appointments?\n"
   ]
  },
  {
   "cell_type": "code",
   "execution_count": 41,
   "id": "d4e57734",
   "metadata": {},
   "outputs": [
    {
     "data": {
      "text/plain": [
       "Text(0.5, 1.0, 'Total Sum of Appointments by day of the week')"
      ]
     },
     "execution_count": 41,
     "metadata": {},
     "output_type": "execute_result"
    },
    {
     "data": {
      "image/png": "[encoded data removed]",
      "text/plain": [
       "<Figure size 720x432 with 1 Axes>"
      ]
     },
     "metadata": {
      "needs_background": "light"
     },
     "output_type": "display_data"
    }
   ],
   "source": [
    "plt.figure(figsize = (10,6))\n",
    "data['AppointmentDay'].value_counts().plot.bar()\n",
    "plt.legend()\n",
    "plt.xlabel('AppointmentDays')\n",
    "plt.ylabel('Count')\n",
    "plt.title('Total Sum of Appointments by day of the week', size = 18)"
   ]
  },
  {
   "cell_type": "markdown",
   "id": "a0203dd6",
   "metadata": {},
   "source": [
    " - We have more appointments schecduled in the part of the week(Monday, Tuesday, Wednesday) and less was scheduled towards the week end\n"
   ]
  },
  {
   "cell_type": "code",
   "execution_count": 42,
   "id": "8a7433cb",
   "metadata": {},
   "outputs": [
    {
     "data": {
      "text/plain": [
       "Text(0.5, 1.0, 'Total Sum of Appointments by Month')"
      ]
     },
     "execution_count": 42,
     "metadata": {},
     "output_type": "execute_result"
    },
    {
     "data": {
      "image/png": "[encoded data removed]",
      "text/plain": [
       "<Figure size 720x432 with 1 Axes>"
      ]
     },
     "metadata": {
      "needs_background": "light"
     },
     "output_type": "display_data"
    }
   ],
   "source": [
    "plt.figure(figsize = (10,6))\n",
    "data['AppointmentMonth'].value_counts().plot.bar()\n",
    "plt.legend()\n",
    "plt.xlabel('AppointmentMonths')\n",
    "plt.ylabel('Count')\n",
    "plt.title('Total Sum of Appointments by Month', size = 18)"
   ]
  },
  {
   "cell_type": "markdown",
   "id": "004be11c",
   "metadata": {},
   "source": [
    " - We have more appointments schecduled May and less was scheduled in other months"
   ]
  },
  {
   "cell_type": "markdown",
   "id": "df3b5c52",
   "metadata": {},
   "source": [
    "No-show"
   ]
  },
  {
   "cell_type": "code",
   "execution_count": 43,
   "id": "db3f788a",
   "metadata": {},
   "outputs": [
    {
     "data": {
      "image/png": "[encoded data removed]",
      "text/plain": [
       "<Figure size 432x432 with 1 Axes>"
      ]
     },
     "metadata": {},
     "output_type": "display_data"
    }
   ],
   "source": [
    "#Check for the percentage patients that showed up and those that do not\n",
    "plt.figure(figsize=(6,6))\n",
    "data['No-show'].value_counts().plot.pie(autopct=\"%1.1f%%\")\n",
    "plt.legend()\n",
    "plt.title('Percentage of patients by No-Show', size =15)\n",
    "plt.show()"
   ]
  },
  {
   "cell_type": "code",
   "execution_count": 44,
   "id": "68427490",
   "metadata": {},
   "outputs": [
    {
     "data": {
      "text/plain": [
       "ShowedUp     88207\n",
       "NotShowUp    22319\n",
       "Name: No-show, dtype: int64"
      ]
     },
     "execution_count": 44,
     "metadata": {},
     "output_type": "execute_result"
    }
   ],
   "source": [
    "#Show the specific count of those that showed up and those that do not\n",
    "data['No-show'].value_counts()"
   ]
  },
  {
   "cell_type": "markdown",
   "id": "855ceca7",
   "metadata": {},
   "source": [
    " - Of all patients that scheduled Appointments, Only 88208 (79.8%) patients Showedup while 22319(20.2%) do not "
   ]
  },
  {
   "cell_type": "markdown",
   "id": "96a0215f",
   "metadata": {},
   "source": [
    "## Question: What is the basic reasons some patients do not show up on the appointment day?"
   ]
  },
  {
   "cell_type": "markdown",
   "id": "37631d89",
   "metadata": {},
   "source": [
    "#### Lets Explore the NotShowup in the 'No-show' Column"
   ]
  },
  {
   "cell_type": "code",
   "execution_count": 45,
   "id": "fb36d458",
   "metadata": {},
   "outputs": [
    {
     "data": {
      "image/png": "[encoded data removed]",
      "text/plain": [
       "<Figure size 720x432 with 1 Axes>"
      ]
     },
     "metadata": {
      "needs_background": "light"
     },
     "output_type": "display_data"
    }
   ],
   "source": [
    "#plot for patients that showed up and those that do not show based on variales named Alcoholism\n",
    "plt.figure(figsize = (10,6))\n",
    "sns.countplot (x = \"No-show\" , hue = \"Alcoholism\", data = data, palette = 'turbo_r' )\n",
    "plt.title('Influence of Alcoholism in patients Appointment Show up', size = 20)\n",
    "plt.xticks(rotation = 90)\n",
    "sns.set_style(\"darkgrid\")\n",
    "plt.tight_layout()"
   ]
  },
  {
   "cell_type": "markdown",
   "id": "775dceb2",
   "metadata": {},
   "source": [
    "- patients who are non alcoholic showed up most. Also such patients have the most percentage of patients that do not show up compared to the alcoholic patients "
   ]
  },
  {
   "cell_type": "code",
   "execution_count": 46,
   "id": "42ef3d0d",
   "metadata": {},
   "outputs": [
    {
     "data": {
      "image/png": "[encoded data removed]",
      "text/plain": [
       "<Figure size 720x432 with 1 Axes>"
      ]
     },
     "metadata": {},
     "output_type": "display_data"
    }
   ],
   "source": [
    "#plot for patients that showed up and those that do not show based on variable named Scholarship\n",
    "plt.figure(figsize = (10,6))\n",
    "sns.countplot (x = \"No-show\" , hue = \"Scholarship\", data = data, palette = 'turbo_r' )\n",
    "plt.title('Influence of Scholarship in patients Appointment Show up', size = 20)\n",
    "plt.xticks(rotation = 90)\n",
    "sns.set_style(\"darkgrid\")\n",
    "plt.tight_layout()"
   ]
  },
  {
   "cell_type": "markdown",
   "id": "ad882a36",
   "metadata": {},
   "source": [
    "- patients who have scholarship showed up most. Also such patients have the most percentage of patients that do not show up compared to those non scholarship patients "
   ]
  },
  {
   "cell_type": "code",
   "execution_count": 47,
   "id": "d52e6db3",
   "metadata": {},
   "outputs": [
    {
     "data": {
      "image/png": "[encoded data removed]",
      "text/plain": [
       "<Figure size 720x432 with 1 Axes>"
      ]
     },
     "metadata": {},
     "output_type": "display_data"
    }
   ],
   "source": [
    "#plot for patients that showed up and those that do not show based on variable named SMS_received\n",
    "plt.figure(figsize = (10,6))\n",
    "sns.countplot (x = \"No-show\" , hue = \"SMS_received\", data = data, palette = 'turbo_r' )\n",
    "plt.title('Influence of SMS_received in patients Appointment Show up', size = 20)\n",
    "plt.xticks(rotation = 90)\n",
    "sns.set_style(\"darkgrid\")\n",
    "plt.tight_layout()"
   ]
  },
  {
   "cell_type": "markdown",
   "id": "228527d0",
   "metadata": {},
   "source": [
    "- patients who recieved SMS showed up most. Also such patients have the most percentage of patients that do not show up compared to those that do not receive SMS "
   ]
  },
  {
   "cell_type": "code",
   "execution_count": 48,
   "id": "74034c03",
   "metadata": {},
   "outputs": [
    {
     "data": {
      "image/png": "[encoded data removed]",
      "text/plain": [
       "<Figure size 1008x432 with 1 Axes>"
      ]
     },
     "metadata": {},
     "output_type": "display_data"
    }
   ],
   "source": [
    "#plot for patients that showed up and those that do not show on each day of the week.\n",
    "plt.figure(figsize = (14,6))\n",
    "sns.countplot (x = \"No-show\" , hue = \"AppointmentDay\", data = data, palette = 'turbo_r' )\n",
    "plt.title('Total Sum of Patients that showed up and those that do not show up Per day of the week', size =20)\n",
    "plt.xticks(rotation = 90)\n",
    "plt.tight_layout()"
   ]
  },
  {
   "cell_type": "markdown",
   "id": "105646de",
   "metadata": {},
   "source": [
    "- Of all days of the week, Wednesday has been the most Scheduled appointment day for both those that showed up for the appointment and those that do not"
   ]
  },
  {
   "cell_type": "markdown",
   "id": "f139520d",
   "metadata": {},
   "source": [
    "#### CONCLUSION"
   ]
  },
  {
   "cell_type": "markdown",
   "id": "72a94afe",
   "metadata": {},
   "source": [
    "**Results:** After thoroughly analyzing of the dataset, The following questions was answered\n",
    "\n",
    "\n",
    "1.What is the basic reasons some patients do not show up on the appointment day?\n",
    "\n",
    "* It could be that most patient do not showup rather scheculed their appointment in towards weekend \n",
    "* Probably the patient that do not show up did not recieve SMS\n",
    "* also may be  patient that do not show up not on scholarsip\n",
    "\n",
    "2.Which day of the week do patients scheduled their appoint?\n",
    "\n",
    "* According to the analysis,  It was deduced that We have more appointments schecduled in the part of the week(Monday, Tuesday, Wednesday) and less was scheduled towards the week end\n",
    "\n",
    "3.What Age group have most Appontments Scheduled?\n",
    "\n",
    "* The Analysis shows Infant in age bracket 0-1 have the highest appointment scheduled. of Adult,  Age above 40 are more noticeable \n",
    "\n",
    "\n",
    "\n",
    "**Limitations** : Some limitations in the data are:\n",
    "\n",
    "- This Analysis is limited as no advanced statistics were performed only exploratory analysis. \n",
    "\n",
    "- The variables in this datasets contains many missing data. as a result, it  was limiting as many entries in the dataset were removed.\n",
    "\n",
    "- Present of Variable that shows Scheduled Appointment location could have helped me dive deeper to why we have Patient who do not show up\n"
   ]
  },
  {
   "cell_type": "markdown",
   "id": "1cd3b3ed",
   "metadata": {},
   "source": [
    "\n",
    "\n"
   ]
  },
  {
   "cell_type": "markdown",
   "id": "fe8a0065",
   "metadata": {},
   "source": [
    "Credit:\n",
    "    "
   ]
  },
  {
   "cell_type": "markdown",
   "id": "bbc37a92",
   "metadata": {},
   "source": [
    "* Google\n",
    "* Stackoverflow"
   ]
  },
  {
   "cell_type": "markdown",
   "id": "6dfe406a",
   "metadata": {},
   "source": [
    "### FINAL REPORT"
   ]
  },
  {
   "cell_type": "markdown",
   "id": "3dbdc659",
   "metadata": {},
   "source": [
    "**Report of Investigation on No-Show Appointment Dataset**\n",
    "\n",
    "Investigating your dataset has been the most important approach to before your start your analysis. This will give you an insight on what on how to clean Up Your Data, Identify the Right Questions, Visualize the Data and eventually Use the Data to Answer Your Questions.\n",
    "\n",
    "In this project, i investigated the dataset called No-Show Appointment\n",
    "\n",
    "\n",
    "To begin with, i started by importing the neccessary libraries needed for the project. then load the dataset.\n",
    "\n",
    "Next, I assessed dataset to find out any abnormalities. It was found out that the dataset was messy. so therefore, required thorough cleaning\n",
    "\n",
    "During the cleaning process, the following was carried:\n",
    "\n",
    "* Deleting columns that are not required.\n",
    "* Handling zero values\n",
    "* Checking and droping Null values.\n",
    "* Checking and Removing duplicates.\n",
    "* Changing the format of release date into DateTime format.\n",
    "* Handling columns with pipes\n",
    "* Checking datatype of columns\n",
    "\n",
    "At the end of Cleaning, analysis and visualisation was perform.  \n",
    "\n",
    "The following are the questions were answered:\n",
    "\n",
    "    \n",
    "**What is the basic reasons some patients do not show up on the appointment day?**\n",
    "\n",
    "It could be that most patient do not showup rather scheculed their appointment in towards weekend \n",
    "Probably the patient that do not show up did not recieve SMS\n",
    "also may be  patient that do not show up not on scholarsip\n",
    "\n",
    "**Which day of the week do patients scheduled their appoint?**\n",
    "\n",
    "According to the analysis,  It was deduced that We have more appointments schecduled in the part of the week(Monday, Tuesday, Wednesday) and less was scheduled towards the week end\n",
    "\n",
    "**What Age group have most Appontments Scheduled?**\n",
    "\n",
    "The Analysis shows Infant in age bracket 0-1 have the highest appointment scheduled. of Adult,  Age above 40 are more noticeable \n",
    "\n",
    "Aside Answering those questions, i also found out that:\n",
    "\n",
    "- There are more patient without scholarships than we have for those with scholarships\n",
    "    \n",
    "- There are 88726 patients with Hypertension while 21801 without.\n",
    "\n",
    "-  65% of Female and 35% of Male booked appointment respectively\n",
    "\n",
    "- In count,  71840 Female and 38687 Male booked appointment respectively\n",
    "   \n",
    "- Of 81 Neighbourhood, Most appointments are booked with the doctors by patient in the JARDIM CAMBURI Neighbourhood\n",
    "\n",
    "- There are more Diabetic patients than we do not have\n",
    "    \n",
    "- 107167 Alcoholic patients and 3360 Non-alcoholic patient book Appointment with the doctors\n",
    "    \n",
    "- Of all scheduled Appointment, Only 35482 patients recieved an SMS while 75045 patients do not \n",
    "    \n",
    "- There are more scheduled appoinment in the month of May than the rest of the month\n",
    "\n",
    "- Eventually, Of all scheduled Appointments, Only 88208 (79.8%) patients Showedup while 22319(20.2%) do not "
   ]
  }
 ],
 "metadata": {
  "kernelspec": {
   "display_name": "Python 3 (ipykernel)",
   "language": "python",
   "name": "python3"
  },
  "language_info": {
   "codemirror_mode": {
    "name": "ipython",
    "version": 3
   },
   "file_extension": ".py",
   "mimetype": "text/x-python",
   "name": "python",
   "nbconvert_exporter": "python",
   "pygments_lexer": "ipython3",
   "version": "3.9.12"
  }
 },
 "nbformat": 4,
 "nbformat_minor": 5
}
